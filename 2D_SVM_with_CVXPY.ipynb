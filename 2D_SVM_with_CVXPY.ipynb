{
  "nbformat": 4,
  "nbformat_minor": 0,
  "metadata": {
    "colab": {
      "name": "2D SVM with CVXPY.ipynb",
      "provenance": []
    },
    "kernelspec": {
      "name": "python3",
      "display_name": "Python 3"
    },
    "language_info": {
      "name": "python"
    }
  },
  "cells": [
    {
      "cell_type": "code",
      "metadata": {
        "colab": {
          "base_uri": "https://localhost:8080/",
          "height": 265
        },
        "id": "Y0Ba5V31w3ru",
        "outputId": "8ffee427-a219-4d19-b8fe-c6f65b9de7e3"
      },
      "source": [
        "# Librerias necesarias\n",
        "\n",
        "import numpy as np\n",
        "import matplotlib.pyplot as plt\n",
        "from random import randrange\n",
        "import pandas as pd\n",
        "import cvxpy as cp\n",
        "\n",
        "\n",
        "# Los datos\n",
        "\n",
        "\n",
        "# Determinar la cantidad de datos para cada conjunto\n",
        "n = 20\n",
        "\n",
        "# Creacion aleatoria de los conjuntos\n",
        "x1 = 10*np.random.randn(n)\n",
        "y1 = 10*np.random.randn(n)\n",
        "x2 = 10*np.random.randn(n) + randrange(5)*n\n",
        "y2 = 10*np.random.randn(n) + randrange(5)*n\n",
        "\n",
        "# Graficar los conjuntos para comprobar que los conjuntos son liealmente separables\n",
        "\n",
        "# Crear un objeto figura\n",
        "fig, ax = plt.subplots()\n",
        "\n",
        "# Graficar el primer conjunto de datos como diamantes verdes\n",
        "ax.plot(x1,y1, \"d\", color=\"green\")\n",
        "\n",
        "# Graficar el segundo conjunto de puntos como cruces azules\n",
        "ax.plot(x2,y2, \"P\", color=\"blue\")\n",
        "\n",
        "# Mostrar los datos\n",
        "fig.show()"
      ],
      "execution_count": null,
      "outputs": [
        {
          "output_type": "display_data",
          "data": {
            "image/png": "[encoded data removed]",
            "text/plain": [
              "<Figure size 432x288 with 1 Axes>"
            ]
          },
          "metadata": {
            "tags": [],
            "needs_background": "light"
          }
        }
      ]
    },
    {
      "cell_type": "code",
      "metadata": {
        "colab": {
          "base_uri": "https://localhost:8080/",
          "height": 265
        },
        "id": "V7eFRYbAP4zz",
        "outputId": "a6423c59-a77a-44ee-9603-748465a7ff63"
      },
      "source": [
        "# Preparacion de los datos\n",
        "\n",
        "\n",
        "# Creacion de listas de los valores tanto en x como en y de los dos conjuntos\n",
        "x = np.append(x1,[x2])\n",
        "y = np.append(y1,[y2])\n",
        "\n",
        "# Creacion de la lista que mostrara la etiqueta de cada elemnto del conjunto\n",
        "etiquetas = []\n",
        "\n",
        "# Etiquetar los datos segun su posicion en la lista de los dos conjuntos\n",
        "for i in range(n):\n",
        "  etiquetas.append(-1)\n",
        "for i in range(n,2*n):\n",
        "  etiquetas.append(1)\n",
        "\n",
        "# Creacion de un dataframe con los datos y su respectiva etiqueta\n",
        "dataframe = pd.DataFrame({'x':x, 'y':y, 'Etiqueta':etiquetas})\n",
        "\n",
        "# Ajuste de la dimension de la lista con la etiquetas para poder \n",
        "etiquetas = np.reshape(etiquetas, (2*n, 1))\n",
        "\n",
        "# Acomodar los datos en un arreglo a partir del data frame\n",
        "arreglo_vectores = np.array([[dataframe['x'][0],dataframe['y'][0]]])\n",
        "for j in range(2*n-1):\n",
        "  arreglo_vectores = np.append(arreglo_vectores,[[dataframe['x'][j+1],dataframe['y'][j+1]]],0)\n",
        "\n",
        "\n",
        "\n",
        "# El problema de Optimizacion\n",
        "\n",
        "\n",
        "# Creacion de las variables\n",
        "w = cp.Variable((2,1))\n",
        "b = cp.Variable()\n",
        "\n",
        "# Planteamiento del problema segun la teoria expuesta\n",
        "objective = cp.Minimize((1/2)*cp.norm(w)**2)\n",
        "constraints = [cp.multiply(etiquetas, arreglo_vectores*w + b) >= 1]\n",
        "\n",
        "# Solucion del problema\n",
        "prob = cp.Problem(objective, constraints)\n",
        "result = prob.solve()\n",
        "\n",
        "\n",
        "\n",
        "# Visualizacion\n",
        "\n",
        "\n",
        "# Se crea un conjunto de puntos en el rango de valores de los datos\n",
        "x = np.linspace(min(x1), max(x2), n)\n",
        "\n",
        "# Generacion del hiperplano y dos margenes(opcionales), usando la solucion del problema de optimizacion\n",
        "y = -(w.value[0]*x + b.value)/w.value[1]\n",
        "h1 = -(w.value[0]*x + b.value)/w.value[1]\n",
        "h2 = -(w.value[0]*x + b.value)/w.value[1]\n",
        "\n",
        "# Graficar los datos junto con el hiperplano\n",
        "fig, ax = plt.subplots()\n",
        "ax.plot(x, h1, \"--r\")\n",
        "ax.plot(x, h2, \"--r\")\n",
        "ax.plot(x1, y1, \"d\", color=\"green\")\n",
        "ax.plot(x2, y2, \"P\", color=\"blue\")\n",
        "ax.plot(x, y, \"r\", label = \"hiperplano\")\n",
        "\n",
        "# Para mejorar la visualizacion se restringe la dimension del grafico\n",
        "plt.xlim(min(x1)-1, max(x2)+1)\n",
        "plt.ylim(min(y1)-1, max(y2)+1)\n",
        "\n",
        "# Mostrar los datos y el hiperplano encontrado\n",
        "fig.show()"
      ],
      "execution_count": null,
      "outputs": [
        {
          "output_type": "display_data",
          "data": {
            "image/png": "[encoded data removed]",
            "text/plain": [
              "<Figure size 432x288 with 1 Axes>"
            ]
          },
          "metadata": {
            "tags": [],
            "needs_background": "light"
          }
        }
      ]
    }
  ]
}